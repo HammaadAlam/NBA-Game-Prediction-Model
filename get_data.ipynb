{
 "cells": [
  {
   "cell_type": "code",
   "execution_count": 1,
   "id": "9a1298ec-85a1-452b-ab25-0017cdfa8b63",
   "metadata": {},
   "outputs": [],
   "source": [
    "import os\n",
    "from bs4 import BeautifulSoup\n",
    "from playwright.async_api import async_playwright, TimeoutError as PlaywrightTimeout\n",
    "import time"
   ]
  },
  {
   "cell_type": "code",
   "execution_count": 2,
   "id": "e808a2b4-2326-4875-95c5-3ddd1bbe98fb",
   "metadata": {},
   "outputs": [],
   "source": [
    "SEASONS = list(range(2022, 2026))"
   ]
  },
  {
   "cell_type": "code",
   "execution_count": null,
   "id": "6785a6ff-a600-476d-89cb-f253a81e4d00",
   "metadata": {},
   "outputs": [],
   "source": [
    "SEASONS"
   ]
  },
  {
   "cell_type": "code",
   "execution_count": 4,
   "id": "a20bdcbd-027b-46b8-8e84-877f39b5ef88",
   "metadata": {},
   "outputs": [],
   "source": [
    "DATA_DIRECTORY = \"data\"\n",
    "STANDINGS_DIRECTORY = os.path.join(DATA_DIRECTORY, \"standings\")\n",
    "SCORES_DIRECTORY = os.path.join(DATA_DIRECTORY, \"scores\")"
   ]
  },
  {
   "cell_type": "code",
   "execution_count": 5,
   "id": "b2b3b321-5513-493d-8c93-bc96474a9f8a",
   "metadata": {},
   "outputs": [],
   "source": [
    "async def get_html(url, selector, sleep=5, retries=3):\n",
    "    html = None\n",
    "    for i in range(1, retries+1):\n",
    "        time.sleep(sleep * i) #increase time with each retry to account for delays/bans\n",
    "\n",
    "        try:\n",
    "            async with async_playwright() as p:\n",
    "                browser = await p.chromium.launch() #launch the browser and wait till its done launching to continue\n",
    "                page = await browser.new_page() #essentially creates new tab in browser\n",
    "                await page.goto(url, timeout = 10000) #send browser in that tab to a given page and wait till its finished\n",
    "                print(await page.title()) #Know progress in scraping\n",
    "                html = await page.inner_html(selector) # Select pieces of html we want\n",
    "        except PlaywrightTimeout:\n",
    "            print(f\"Timeout error on this page: {url}\")\n",
    "            continue\n",
    "        else:\n",
    "            break\n",
    "    return html # will return html unless three different retries fail, thus will return none"
   ]
  },
  {
   "cell_type": "code",
   "execution_count": 6,
   "id": "c30b6d97-195b-465b-a34f-776287d44459",
   "metadata": {},
   "outputs": [],
   "source": [
    "async def scrape_season(season): #Scrape box scores for a given season\n",
    "    url = f\"https://www.basketball-reference.com/leagues/NBA_{season}_games.html\"\n",
    "    html = await get_html(url, \"#content .filter\") #CSS selector\n",
    "    print(f\"Fetched HTML for {season}: {html[:100] if html else 'None'}\")\n",
    "\n",
    "    if not html:\n",
    "        print(f\"HTML not retrieved for season {season}. Skipping\")\n",
    "        return\n",
    "    soup = BeautifulSoup(html)          #Create Links for each of the standings pages\n",
    "    links = soup.find_all(\"a\")           \n",
    "    href = [l[\"href\"] for l in links]\n",
    "    standings_pages = [f\"https://basketball-reference.com{l}\" for l in href]\n",
    "\n",
    "    for url in standings_pages: #Save data and then process later\n",
    "        save_path = os.path.join(STANDINGS_DIRECTORY, url.split(\"/\")[-1]) # Given This: https://basketball-reference.com/leagues/NBA_2019_games-october.html , It will simply get this: NBA_2019_games-october.html\n",
    "        if os.path.exists(save_path): # If already scraped, dont scrape again\n",
    "            continue\n",
    "\n",
    "        html = await get_html(url, \"#all_schedule\") #Get table that has boxscores\n",
    "        with open(save_path, \"w+\") as f:\n",
    "            f.write(html)"
   ]
  },
  {
   "cell_type": "code",
   "execution_count": null,
   "id": "3b88ff0e-09eb-4673-9a8a-b9f7ca8d0d48",
   "metadata": {},
   "outputs": [],
   "source": [
    "for season in SEASONS: #loop through seasons and wait till season has been scraped before moving on\n",
    "    await scrape_season(season)"
   ]
  },
  {
   "cell_type": "code",
   "execution_count": 8,
   "id": "0386adae-967a-4f4b-adb1-e6f121f9acb7",
   "metadata": {},
   "outputs": [],
   "source": [
    "standings_files = os.listdir(STANDINGS_DIRECTORY)"
   ]
  },
  {
   "cell_type": "code",
   "execution_count": 9,
   "id": "afdeee40-10f3-4baf-864d-91e02375bf38",
   "metadata": {},
   "outputs": [],
   "source": [
    "async def scrape_game(standings_file):\n",
    "    with open(standings_file, 'r') as f:\n",
    "        html = f.read()\n",
    "    \n",
    "    soup = BeautifulSoup(html)\n",
    "    links = soup.find_all(\"a\") #Grab a tags from all the links\n",
    "    hrefs = [l.get(\"href\") for l in links]\n",
    "    box_scores = [l for l in hrefs if l and \"boxscore\" in l and \".html\" in l]\n",
    "    box_scores = [f\"https://www.basketball-reference.com{l}\" for l in box_scores] \n",
    "    \n",
    "    for url in box_scores:\n",
    "        save_path = os.path.join(SCORES_DIRECTORY, url.split(\"/\")[-1])\n",
    "        if os.path.exists(save_path):\n",
    "            continue\n",
    "    \n",
    "        html = await get_html(url, \"#content\")\n",
    "        if not html:\n",
    "            continue\n",
    "        with open(save_path, \"w+\") as f:\n",
    "            f.write(html)"
   ]
  },
  {
   "cell_type": "code",
   "execution_count": 10,
   "id": "12a3476d-9eaa-4459-89ad-7faa7938f193",
   "metadata": {},
   "outputs": [],
   "source": [
    "standings_files = [s for s in standings_files if \".html\" in s]"
   ]
  },
  {
   "cell_type": "code",
   "execution_count": null,
   "id": "c2d76230-3c94-4116-9968-fc6108e62e15",
   "metadata": {},
   "outputs": [],
   "source": [
    "for f in standings_files:\n",
    "    filepath = os.path.join(STANDINGS_DIRECTORY, f)\n",
    "\n",
    "    await scrape_game(filepath)"
   ]
  }
 ],
 "metadata": {
  "kernelspec": {
   "display_name": "Python 3 (ipykernel)",
   "language": "python",
   "name": "python3"
  },
  "language_info": {
   "codemirror_mode": {
    "name": "ipython",
    "version": 3
   },
   "file_extension": ".py",
   "mimetype": "text/x-python",
   "name": "python",
   "nbconvert_exporter": "python",
   "pygments_lexer": "ipython3",
   "version": "3.12.3"
  }
 },
 "nbformat": 4,
 "nbformat_minor": 5
}
