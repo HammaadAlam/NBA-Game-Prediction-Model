{
 "cells": [
  {
   "cell_type": "code",
   "execution_count": 1,
   "id": "b5e6f42c-3e60-4cee-b5db-c1659ebb6ef1",
   "metadata": {},
   "outputs": [],
   "source": [
    "import os\n",
    "import pandas as pd\n",
    "from bs4 import BeautifulSoup\n",
    "import io"
   ]
  },
  {
   "cell_type": "code",
   "execution_count": 2,
   "id": "f24f03dd-2331-471c-b40f-759a7781f7bc",
   "metadata": {},
   "outputs": [],
   "source": [
    "SCORE_DIRECTORY = \"data/scores\""
   ]
  },
  {
   "cell_type": "code",
   "execution_count": 3,
   "id": "0aa5e6e1-74ae-4304-b81a-99a018fd6a80",
   "metadata": {},
   "outputs": [],
   "source": [
    "box_scores = os.listdir(SCORE_DIRECTORY)"
   ]
  },
  {
   "cell_type": "code",
   "execution_count": 4,
   "id": "45401a43-9123-4267-a274-fcbf3e607a87",
   "metadata": {},
   "outputs": [],
   "source": [
    "box_scores = [os.path.join(SCORE_DIRECTORY, f) for f in box_scores if f.endswith (\".html\")]"
   ]
  },
  {
   "cell_type": "code",
   "execution_count": 5,
   "id": "40a75dbe-883c-4ed3-9442-5ad9c10eaea6",
   "metadata": {},
   "outputs": [],
   "source": [
    "def parse_html(box_score):\n",
    "    with open(box_score) as f:\n",
    "        html = f.read()\n",
    "\n",
    "    soup = BeautifulSoup(html)\n",
    "    [s.decompose() for s in soup.select(\"tr.over_header\")] #Selecting table row(tr) with the class over_header, Calls decompose which removes it\n",
    "    [s.decompose() for s in soup.select(\"tr.thead\")]\n",
    "    return soup"
   ]
  },
  {
   "cell_type": "code",
   "execution_count": 6,
   "id": "667e4534-e351-4c8e-98ab-4c7062a7ee46",
   "metadata": {},
   "outputs": [],
   "source": [
    "def read_line_score(soup):\n",
    "    line_score = pd.read_html(str(soup), attrs={\"id\": \"line_score\"})[0]\n",
    "    cols = list(line_score.columns)\n",
    "    cols[0] = \"team\"\n",
    "    cols[-1] = \"total\"\n",
    "    line_score.columns = cols\n",
    "\n",
    "    line_score = line_score[[\"team\", \"total\"]]\n",
    "    return line_score"
   ]
  },
  {
   "cell_type": "code",
   "execution_count": 7,
   "id": "6104dc16-f695-4c0d-9c70-078750ad2272",
   "metadata": {},
   "outputs": [],
   "source": [
    "def read_stats(soup, team, stat):\n",
    "    df = pd.read_html(str(soup), attrs={\"id\": f\"box-{team}-game-{stat}\"}, index_col=0)[0]\n",
    "    df = df.apply(pd.to_numeric, errors=\"coerce\") #Convert columns to numeric columns, needed for machine learning\n",
    "    return df"
   ]
  },
  {
   "cell_type": "code",
   "execution_count": 8,
   "id": "bad88934-53f8-4f96-8efc-c78b41c78679",
   "metadata": {},
   "outputs": [],
   "source": [
    "def read_season_info(soup):\n",
    "    nav = soup.select(\"#bottom_nav_container\")[0]\n",
    "    hrefs = [a[\"href\"] for a in nav.find_all(\"a\")]\n",
    "    season = os.path.basename(hrefs[1]).split(\"_\")[0]\n",
    "    return season"
   ]
  },
  {
   "cell_type": "code",
   "execution_count": null,
   "id": "3db746f4-245e-4e87-9d79-0192af1b18cc",
   "metadata": {},
   "outputs": [],
   "source": [
    "base_cols = None\n",
    "games = []\n",
    "\n",
    "for box_score in box_scores:\n",
    "    soup = parse_html(box_score)\n",
    "    line_score = read_line_score(soup)\n",
    "    teams = list(line_score[\"team\"])\n",
    "    \n",
    "    summaries = []\n",
    "    for team in teams:\n",
    "        basic = read_stats(soup, team, \"basic\")\n",
    "        advanced = read_stats(soup, team, \"advanced\")\n",
    "    \n",
    "        totals = pd.concat([basic.iloc[-1,:], advanced.iloc[-1,:]])\n",
    "        totals.index = totals.index.str.lower()\n",
    "        \n",
    "        maxes = pd.concat([basic.iloc[:-1,:].max(), advanced.iloc[:-1,:].max()])\n",
    "        maxes.index = maxes.index.str.lower() + \"_max\"\n",
    "    \n",
    "        summary = pd.concat([totals, maxes])\n",
    "    \n",
    "        if base_cols is None:\n",
    "            base_cols = list(summary.index.drop_duplicates(keep=\"first\")) #When we run the loop first we will find the stats in the first box score, and look for that in every subsequent boxscore and drop duplicates\n",
    "            base_cols = [b for b in base_cols if \"bpm\" not in b]\n",
    "    \n",
    "        summary = summary[base_cols]\n",
    "    \n",
    "        summaries.append(summary) \n",
    "    summary = pd.concat(summaries, axis=1).T #.T turns rows into columns\n",
    "    \n",
    "    game = pd.concat([summary, line_score], axis=1)\n",
    "    \n",
    "    game[\"home\"] = [0,1]\n",
    "    game_opp = game.iloc[::-1].reset_index() # Reverses the data from so row 2 is now row 1\n",
    "    game_opp.columns += \"_opp\"\n",
    "    \n",
    "    full_game = pd.concat([game, game_opp], axis=1)\n",
    "    \n",
    "    full_game[\"season\"] = read_season_info(soup)\n",
    "    \n",
    "    full_game[\"date\"] = os.path.basename(box_score)[:8]\n",
    "    full_game[\"date\"] = pd.to_datetime(full_game[\"date\"], format = \"%Y%m%d\")\n",
    "    \n",
    "    full_game[\"won\"] = full_game[\"total\"] > full_game[\"total_opp\"]\n",
    "    games.append(full_game)\n",
    "\n",
    "    if len(games) % 100 == 0: #Will print every 100 games\n",
    "        print(f\"{len(games)} / {len(box_scores)}\")"
   ]
  },
  {
   "cell_type": "code",
   "execution_count": 10,
   "id": "1d831450-8421-408a-91a7-36eb0b56daac",
   "metadata": {},
   "outputs": [],
   "source": [
    "games_df = pd.concat(games, ignore_index=True)"
   ]
  },
  {
   "cell_type": "code",
   "execution_count": null,
   "id": "da4c2099-3594-415b-9090-99d037d40457",
   "metadata": {},
   "outputs": [],
   "source": [
    "games_df"
   ]
  },
  {
   "cell_type": "code",
   "execution_count": 12,
   "id": "03a38b9a-06ae-4d02-b179-fef961f1ac9d",
   "metadata": {},
   "outputs": [],
   "source": [
    "games_df.to_csv(\"nba_games.csv\")"
   ]
  }
 ],
 "metadata": {
  "kernelspec": {
   "display_name": "Python 3 (ipykernel)",
   "language": "python",
   "name": "python3"
  },
  "language_info": {
   "codemirror_mode": {
    "name": "ipython",
    "version": 3
   },
   "file_extension": ".py",
   "mimetype": "text/x-python",
   "name": "python",
   "nbconvert_exporter": "python",
   "pygments_lexer": "ipython3",
   "version": "3.12.3"
  }
 },
 "nbformat": 4,
 "nbformat_minor": 5
}
